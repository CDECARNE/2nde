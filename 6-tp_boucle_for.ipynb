{
 "cells": [
  {
   "cell_type": "markdown",
   "metadata": {},
   "source": [
    "# La boucle bornée *for*\n",
    "## 1- La fonction range()\n",
    "L'instruction *range()* génère des entiers dans un intervalle. Lorsqu'on la compose avec la fonction *list()*, on obtient une liste d'entiers.\n",
    "\n",
    "Exécutez les *cellules Code* suivantes (sélectionner la \"cellule Code\", puis cliquer sur *Exécuter* ou utiliser le raccourci clavier *CTRL + Entrée*).\n",
    "\n"
   ]
  },
  {
   "cell_type": "code",
   "execution_count": null,
   "metadata": {},
   "outputs": [],
   "source": [
    "list(range(5))"
   ]
  },
  {
   "cell_type": "code",
   "execution_count": null,
   "metadata": {},
   "outputs": [],
   "source": [
    "list(range(3,7))"
   ]
  },
  {
   "cell_type": "code",
   "execution_count": null,
   "metadata": {},
   "outputs": [],
   "source": [
    "list(range(1,10,2))"
   ]
  },
  {
   "cell_type": "code",
   "execution_count": null,
   "metadata": {},
   "outputs": [],
   "source": [
    "list(range(5,0,-1))"
   ]
  },
  {
   "cell_type": "markdown",
   "metadata": {},
   "source": [
    "* La fonction *range()* peut être utilisée avec 3 paramètres *debut*, *fin* et *pas* : *range(debut,fin,pas)*. L'entier *debut* est compris, l'entier *fin* est **exclu**.\n",
    "* La fonction *range()* peut être utilisée avec 2 paramètres *debut* et *fin* : *range(debut,fin)*. Le *pas* est égal à 1 par défaut.\n",
    "* La fonction *range()* peut être utilisée avec 1 seul paramètre *fin* : *range(fin)*. *debut* est ègal à 0 par défaut, et *pas* à 1 par défaut.\n",
    "\n",
    "<span style='color:blue'>**Application 1**</span> :\n",
    "\n",
    "A l'aide de la combinaison *list(range())*, obtenir dans chacune des *cellules Code* ci-dessous, les listes suivantes :\n",
    "\n",
    "* $[2,4,6,8,10,12]$ :"
   ]
  },
  {
   "cell_type": "code",
   "execution_count": null,
   "metadata": {},
   "outputs": [],
   "source": []
  },
  {
   "cell_type": "markdown",
   "metadata": {},
   "source": [
    "* $[10,8,6,4,2]$ :"
   ]
  },
  {
   "cell_type": "code",
   "execution_count": null,
   "metadata": {},
   "outputs": [],
   "source": []
  },
  {
   "cell_type": "markdown",
   "metadata": {},
   "source": [
    "* $[3,6,9,12]$ :"
   ]
  },
  {
   "cell_type": "code",
   "execution_count": null,
   "metadata": {},
   "outputs": [],
   "source": []
  },
  {
   "cell_type": "markdown",
   "metadata": {},
   "source": [
    "* $[0,1,2,3,4,5]$ :"
   ]
  },
  {
   "cell_type": "code",
   "execution_count": null,
   "metadata": {},
   "outputs": [],
   "source": []
  },
  {
   "cell_type": "markdown",
   "metadata": {},
   "source": [
    "## 2- La boucle *for*\n",
    "Exécuter chacune des *cellules Code* suivantes :"
   ]
  },
  {
   "cell_type": "code",
   "execution_count": null,
   "metadata": {},
   "outputs": [],
   "source": [
    "for i in range(4):\n",
    "    print(i)"
   ]
  },
  {
   "cell_type": "code",
   "execution_count": null,
   "metadata": {},
   "outputs": [],
   "source": [
    "for i in range(1,4):\n",
    "    print(i)"
   ]
  },
  {
   "cell_type": "code",
   "execution_count": null,
   "metadata": {},
   "outputs": [],
   "source": [
    "for i in range(1,4,2):\n",
    "    print(i)"
   ]
  },
  {
   "cell_type": "code",
   "execution_count": null,
   "metadata": {},
   "outputs": [],
   "source": [
    "for i in range(4,0,-1):\n",
    "    print(i)"
   ]
  },
  {
   "cell_type": "markdown",
   "metadata": {},
   "source": [
    " <span style='color:green'>**Remarques**</span> :\n",
    " * Bien penser à terminer la ligne 1 du *for* avec un deux-points (\":\").\n",
    " * L'*indentation* (c'est-à-dire une tabulation qui n'est pas équivalente à \"trois touches espaces\") est obligatoire en ligne 2 pour signaler quelles sont les lignes d'instructions qui appartiennent au *corps* de la boucle *for*.\n",
    " * Après chaque instruction *print(i)*, il y a un passage à la ligne au niveau de l'affichage.\n",
    " * On dit que la boucle *for* est une **boucle bornée** car on sait à l'avance (ou on peut le savoir) combien de fois la ligne 2 va être exécutée. En pratique autant de fois qu'il y a d'entiers dans la liste *list(range())*.\n",
    "\n",
    "<span style='color:blue'>**Application 2**</span> :\n",
    "\n",
    "Préciser dans chacune des *cellules Code* ci-après, comment on peut obtenir les affichages suivants à l'aide d'une boucle *for* :\n",
    "\n",
    "![image1](image1.png)\n",
    " \n",
    " **Cas 1 :**"
   ]
  },
  {
   "cell_type": "code",
   "execution_count": null,
   "metadata": {},
   "outputs": [],
   "source": []
  },
  {
   "cell_type": "markdown",
   "metadata": {},
   "source": [
    "**Cas 2 :**"
   ]
  },
  {
   "cell_type": "code",
   "execution_count": null,
   "metadata": {},
   "outputs": [],
   "source": []
  },
  {
   "cell_type": "markdown",
   "metadata": {},
   "source": [
    "**Cas 3 :**"
   ]
  },
  {
   "cell_type": "code",
   "execution_count": null,
   "metadata": {},
   "outputs": [],
   "source": []
  },
  {
   "cell_type": "markdown",
   "metadata": {},
   "source": [
    "## 3- Exercices\n",
    "\n",
    "\n",
    "<span style='color:blue'>**Exercice 1**</span> :\n",
    "\n",
    "Faire afficher la table de 7.\n"
   ]
  },
  {
   "cell_type": "code",
   "execution_count": null,
   "metadata": {},
   "outputs": [],
   "source": []
  },
  {
   "cell_type": "markdown",
   "metadata": {},
   "source": [
    "<span style='color:blue'>**Exercice 2**</span> :\n",
    "\n",
    "Le script suivant doit afficher la somme $S$ des 10 premiers entiers naturels non nuls : $S=1+2+...+10$ que l'on note aussi $\\sum \\limits_{i=1}^{10}i$. \n",
    "\n",
    "Il contient une erreur, corrigez-là.\n"
   ]
  },
  {
   "cell_type": "code",
   "execution_count": null,
   "metadata": {},
   "outputs": [],
   "source": [
    "def somme(n):\n",
    "    S=0\n",
    "    for i in range(n):\n",
    "        S=S+i\n",
    "    return S\n",
    "\n",
    "print(somme(10))"
   ]
  },
  {
   "cell_type": "markdown",
   "metadata": {},
   "source": [
    "\n",
    "<span style='color:blue'>**Exercice 3**</span> :\n",
    "\n",
    "Soit $n\\in\\mathbb{N}$. On appelle **factorielle $n$** le nombre que l'on note $n!$ qui est défini par $n!=1\\times 2 \\times...\\times (n-1) \\times n$. \n",
    "\n",
    "$n!$ est donc égal au produit des entiers consécutifs de 1 à $n$. Par convention que $0!=1$.\n",
    "\n",
    " <span style='color:green'>**Exemple**</span> :\n",
    " \n",
    " $5!=1\\times 2 \\times 3 \\times 4 \\times 5=120$.\n",
    " \n",
    " Compléter les lignes 2, 3 et 4 du script suivant pour qu'il affiche la valeur de $5!$.\n"
   ]
  },
  {
   "cell_type": "code",
   "execution_count": null,
   "metadata": {},
   "outputs": [],
   "source": [
    "def factorielle(n):\n",
    "    ...\n",
    "    ...\n",
    "        ...\n",
    "    return P\n",
    "\n",
    "print(factorielle(5))"
   ]
  },
  {
   "cell_type": "markdown",
   "metadata": {},
   "source": [
    "<span style='color:blue'>**Exercice 4**</span> :\n",
    "\n",
    "On a placé 5000€ sur un compte bancaire rémunéré à 2,5% chaque année.\n",
    "Ecrire une fonction qui retourne la somme disponible au bout de n années.\n"
   ]
  },
  {
   "cell_type": "code",
   "execution_count": null,
   "metadata": {},
   "outputs": [],
   "source": []
  },
  {
   "cell_type": "markdown",
   "metadata": {},
   "source": [
    "<span style='color:blue'>**Exercice 5**</span> :\n",
    "\n",
    "Une voiture perd 10% de sa valeur chaque année.\n",
    "Ecrire une fonction qui donne son prix au bout de n année, sachant qu’à l’achat elle coûtait 35000€.\n"
   ]
  },
  {
   "cell_type": "code",
   "execution_count": null,
   "metadata": {},
   "outputs": [],
   "source": []
  },
  {
   "cell_type": "markdown",
   "metadata": {},
   "source": [
    "<span style='color:blue'>**Exercice 6**</span> :\n",
    "\n",
    "Exécuter le programme ci-dessous :\n"
   ]
  },
  {
   "cell_type": "code",
   "execution_count": null,
   "metadata": {},
   "outputs": [],
   "source": [
    "def f(x) :\n",
    "    return 2*x-3\n",
    "\n",
    "for x in range (-2,3) :\n",
    "    print(x,f(x))"
   ]
  },
  {
   "cell_type": "markdown",
   "metadata": {},
   "source": [
    "Quel est l'objectif de ce programme ?"
   ]
  },
  {
   "cell_type": "markdown",
   "metadata": {},
   "source": []
  },
  {
   "cell_type": "markdown",
   "metadata": {},
   "source": [
    "Soit $f$ la fonction définie par $f(x) = -x²+2$ sur $I=[-5;5]$.\n",
    "Modifier le programme précédent pour qu'il affiche le tableau de valeurs de $f$ pour tous les entiers de $I$."
   ]
  },
  {
   "cell_type": "code",
   "execution_count": null,
   "metadata": {},
   "outputs": [],
   "source": []
  }
 ],
 "metadata": {
  "kernelspec": {
   "display_name": "Python 3",
   "language": "python",
   "name": "python3"
  },
  "language_info": {
   "codemirror_mode": {
    "name": "ipython",
    "version": 3
   },
   "file_extension": ".py",
   "mimetype": "text/x-python",
   "name": "python",
   "nbconvert_exporter": "python",
   "pygments_lexer": "ipython3",
   "version": "3.7.10"
  }
 },
 "nbformat": 4,
 "nbformat_minor": 4
}
